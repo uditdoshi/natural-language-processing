{
  "nbformat": 4,
  "nbformat_minor": 0,
  "metadata": {
    "colab": {
      "provenance": []
    },
    "kernelspec": {
      "name": "python3",
      "display_name": "Python 3"
    },
    "language_info": {
      "name": "python"
    }
  },
  "cells": [
    {
      "cell_type": "code",
      "execution_count": 1,
      "metadata": {
        "id": "gx6pGfpkgLTn"
      },
      "outputs": [],
      "source": [
        "import tensorflow as tf\n",
        "import pandas as pd\n",
        "import matplotlib.pyplot as plt\n",
        "\n",
        "from tensorflow.keras.preprocessing.text import Tokenizer\n",
        "from tensorflow.keras.preprocessing.sequence import pad_sequences\n",
        "\n",
        "%matplotlib inline"
      ]
    },
    {
      "cell_type": "code",
      "source": [
        "url = 'https://raw.githubusercontent.com/mariahsonja/natural-language-processing/main/data/IMDB%20Dataset.csv'\n",
        "imdb_data = pd.read_csv(url)\n",
        "imdb_data[\"sentiment\"] = imdb_data[\"sentiment\"].map({\"positive\": 1, \"negative\":0})"
      ],
      "metadata": {
        "id": "oAkO-wCyghXK"
      },
      "execution_count": 3,
      "outputs": []
    },
    {
      "cell_type": "code",
      "source": [
        "imdb_train = imdb_data[\"review\"].values[:25000]\n",
        "imdb_test = imdb_data[\"review\"].values[25000:]\n",
        "\n",
        "imdb_train_labels = imdb_data[\"sentiment\"].values[:25000]\n",
        "imdb_test_labels = imdb_data[\"sentiment\"].values[25000:]"
      ],
      "metadata": {
        "id": "vi1ZibEKgoq7"
      },
      "execution_count": 4,
      "outputs": []
    },
    {
      "cell_type": "code",
      "source": [
        "imdb_train[0]"
      ],
      "metadata": {
        "colab": {
          "base_uri": "https://localhost:8080/",
          "height": 160
        },
        "id": "O5uOh1jkhyAk",
        "outputId": "09b812db-dc2e-4ff7-b9ac-fa249215feac"
      },
      "execution_count": 5,
      "outputs": [
        {
          "output_type": "execute_result",
          "data": {
            "text/plain": [
              "\"One of the other reviewers has mentioned that after watching just 1 Oz episode you'll be hooked. They are right, as this is exactly what happened with me.<br /><br />The first thing that struck me about Oz was its brutality and unflinching scenes of violence, which set in right from the word GO. Trust me, this is not a show for the faint hearted or timid. This show pulls no punches with regards to drugs, sex or violence. Its is hardcore, in the classic use of the word.<br /><br />It is called OZ as that is the nickname given to the Oswald Maximum Security State Penitentary. It focuses mainly on Emerald City, an experimental section of the prison where all the cells have glass fronts and face inwards, so privacy is not high on the agenda. Em City is home to many..Aryans, Muslims, gangstas, Latinos, Christians, Italians, Irish and more....so scuffles, death stares, dodgy dealings and shady agreements are never far away.<br /><br />I would say the main appeal of the show is due to the fact that it goes where other shows wouldn't dare. Forget pretty pictures painted for mainstream audiences, forget charm, forget romance...OZ doesn't mess around. The first episode I ever saw struck me as so nasty it was surreal, I couldn't say I was ready for it, but as I watched more, I developed a taste for Oz, and got accustomed to the high levels of graphic violence. Not just violence, but injustice (crooked guards who'll be sold out for a nickel, inmates who'll kill on order and get away with it, well mannered, middle class inmates being turned into prison bitches due to their lack of street skills or prison experience) Watching Oz, you may become comfortable with what is uncomfortable viewing....thats if you can get in touch with your darker side.\""
            ],
            "application/vnd.google.colaboratory.intrinsic+json": {
              "type": "string"
            }
          },
          "metadata": {},
          "execution_count": 5
        }
      ]
    },
    {
      "cell_type": "code",
      "source": [
        "vocab_size = 10000\n",
        "embedding_dim = 16\n",
        "max_length = 120  "
      ],
      "metadata": {
        "id": "wOrjhH_hhzYt"
      },
      "execution_count": 6,
      "outputs": []
    },
    {
      "cell_type": "code",
      "source": [
        "tokenizer = Tokenizer(num_words=10000, oov_token = \"\")\n",
        "tokenizer.fit_on_texts(imdb_train)\n",
        "word_index = tokenizer.word_index\n",
        "\n",
        "# converting words to numbers and pad for the neural network to use as input\n",
        "train_sequences = tokenizer.texts_to_sequences(imdb_train)\n",
        "train_padded = pad_sequences(train_sequences, maxlen=120, truncating=\"post\")\n",
        "\n",
        "# tokenized using the word_index learned from the training data\n",
        "testing_sequences = tokenizer.texts_to_sequences(imdb_test)\n",
        "test_padded = pad_sequences(testing_sequences, maxlen=120, truncating=\"post\")"
      ],
      "metadata": {
        "id": "DhmWck3Sh2Ii"
      },
      "execution_count": 7,
      "outputs": []
    },
    {
      "cell_type": "code",
      "source": [
        "embedding_dim = 64\n",
        "\n",
        "model = tf.keras.Sequential([\n",
        "    tf.keras.layers.Embedding(vocab_size, embedding_dim),\n",
        "    tf.keras.layers.SimpleRNN(256),\n",
        "    tf.keras.layers.Dense(1, activation = 'sigmoid')])\n",
        "\n",
        "model.summary()"
      ],
      "metadata": {
        "colab": {
          "base_uri": "https://localhost:8080/"
        },
        "id": "5pTKwEPzh4wV",
        "outputId": "438ee976-9ec5-4401-d767-8c5b142d4f06"
      },
      "execution_count": 9,
      "outputs": [
        {
          "output_type": "stream",
          "name": "stdout",
          "text": [
            "Model: \"sequential_1\"\n",
            "_________________________________________________________________\n",
            " Layer (type)                Output Shape              Param #   \n",
            "=================================================================\n",
            " embedding_1 (Embedding)     (None, None, 64)          640000    \n",
            "                                                                 \n",
            " simple_rnn_1 (SimpleRNN)    (None, 256)               82176     \n",
            "                                                                 \n",
            " dense_1 (Dense)             (None, 1)                 257       \n",
            "                                                                 \n",
            "=================================================================\n",
            "Total params: 722,433\n",
            "Trainable params: 722,433\n",
            "Non-trainable params: 0\n",
            "_________________________________________________________________\n"
          ]
        }
      ]
    },
    {
      "cell_type": "code",
      "source": [
        "model.compile(loss='binary_crossentropy', optimizer='adam', metrics=['accuracy'])"
      ],
      "metadata": {
        "id": "i7FzmVVsiJqj"
      },
      "execution_count": 10,
      "outputs": []
    },
    {
      "cell_type": "code",
      "source": [
        "num_epochs = 5\n",
        "history = model.fit(train_padded, imdb_train_labels, epochs=num_epochs, \n",
        "                    validation_data=(test_padded, imdb_test_labels), validation_steps=30)"
      ],
      "metadata": {
        "colab": {
          "base_uri": "https://localhost:8080/"
        },
        "id": "bJrmWtNEiMhW",
        "outputId": "4576538b-e219-462e-cb62-664c81c68493"
      },
      "execution_count": 11,
      "outputs": [
        {
          "output_type": "stream",
          "name": "stdout",
          "text": [
            "Epoch 1/5\n",
            "782/782 [==============================] - 121s 153ms/step - loss: 0.7056 - accuracy: 0.5008 - val_loss: 0.6942 - val_accuracy: 0.5080\n",
            "Epoch 2/5\n",
            "782/782 [==============================] - 119s 152ms/step - loss: 0.6985 - accuracy: 0.5042 - val_loss: 0.7078 - val_accuracy: 0.5003\n",
            "Epoch 3/5\n",
            "782/782 [==============================] - 121s 155ms/step - loss: 0.6958 - accuracy: 0.5179 - val_loss: 0.7226 - val_accuracy: 0.5004\n",
            "Epoch 4/5\n",
            "782/782 [==============================] - 117s 150ms/step - loss: 0.6846 - accuracy: 0.5542 - val_loss: 0.6853 - val_accuracy: 0.5449\n",
            "Epoch 5/5\n",
            "782/782 [==============================] - 118s 151ms/step - loss: 0.6390 - accuracy: 0.6277 - val_loss: 0.6924 - val_accuracy: 0.5722\n"
          ]
        }
      ]
    },
    {
      "cell_type": "code",
      "source": [
        "sample_text_to_predict = [\"The movie was cool. The animation and the graphics were out of this world. I would recommend this movie.\"]\n",
        "train_sequences = tokenizer.texts_to_sequences(sample_text_to_predict)\n",
        "pos_padded = pad_sequences(train_sequences, maxlen=20, truncating=\"post\")\n",
        "\n",
        "# making prediction\n",
        "prediction = model.predict(pos_padded)\n",
        "print(prediction)"
      ],
      "metadata": {
        "colab": {
          "base_uri": "https://localhost:8080/"
        },
        "id": "EvvkFn5KiPtP",
        "outputId": "f88c5569-9fee-4685-9d46-2c165221ae99"
      },
      "execution_count": 12,
      "outputs": [
        {
          "output_type": "stream",
          "name": "stdout",
          "text": [
            "1/1 [==============================] - 0s 372ms/step\n",
            "[[0.5763793]]\n"
          ]
        }
      ]
    },
    {
      "cell_type": "code",
      "source": [
        "sample_text_to_predict = [\"The movie was not good. The animation and the graphics were terrible. I would not recommend this movie.\"]\n",
        "train_sequences = tokenizer.texts_to_sequences(sample_text_to_predict)\n",
        "neg_padded = pad_sequences(train_sequences, maxlen=20, truncating=\"post\")\n",
        "\n",
        "# making prediction\n",
        "prediction = model.predict(neg_padded)\n",
        "print(prediction)"
      ],
      "metadata": {
        "colab": {
          "base_uri": "https://localhost:8080/"
        },
        "id": "jZmeyniBktIu",
        "outputId": "59be799a-a381-41d2-eac0-592f6d397c5d"
      },
      "execution_count": 13,
      "outputs": [
        {
          "output_type": "stream",
          "name": "stdout",
          "text": [
            "1/1 [==============================] - 0s 33ms/step\n",
            "[[0.3766971]]\n"
          ]
        }
      ]
    },
    {
      "cell_type": "code",
      "source": [
        "def plot_graphs(history, string):\n",
        "    plt.plot(history.history[string])\n",
        "    plt.plot(history.history['val_'+ string])\n",
        "    plt.xlabel(\"Epochs\")\n",
        "    plt.ylabel(string)\n",
        "    plt.legend([string, 'val_'+string])\n",
        "    plt.show()\n",
        "             \n",
        "plot_graphs(history,'accuracy')\n",
        "plot_graphs(history, 'loss')"
      ],
      "metadata": {
        "colab": {
          "base_uri": "https://localhost:8080/",
          "height": 541
        },
        "id": "svmM6K-ikxvn",
        "outputId": "9249589a-2857-4d3a-b4f9-de89b8be219e"
      },
      "execution_count": 14,
      "outputs": [
        {
          "output_type": "display_data",
          "data": {
            "text/plain": [
              "<Figure size 432x288 with 1 Axes>"
            ],
            "image/png": "[encoded data removed]"
          },
          "metadata": {
            "needs_background": "light"
          }
        },
        {
          "output_type": "display_data",
          "data": {
            "text/plain": [
              "<Figure size 432x288 with 1 Axes>"
            ],
            "image/png": "[encoded data removed]"
          },
          "metadata": {
            "needs_background": "light"
          }
        }
      ]
    },
    {
      "cell_type": "code",
      "source": [
        "model = tf.keras.Sequential([\n",
        "    tf.keras.layers.Embedding(vocab_size, 64),\n",
        "    tf.keras.layers.LSTM(64),\n",
        "    tf.keras.layers.Dense(64, activation = 'relu'),\n",
        "    tf.keras.layers.Dense(1, activation = 'sigmoid')])\n",
        "\n",
        "model.summary()"
      ],
      "metadata": {
        "colab": {
          "base_uri": "https://localhost:8080/"
        },
        "id": "sN9GkSz8k54P",
        "outputId": "10b73126-5831-4620-8d3a-4e41fdc677b2"
      },
      "execution_count": 15,
      "outputs": [
        {
          "output_type": "stream",
          "name": "stdout",
          "text": [
            "Model: \"sequential_2\"\n",
            "_________________________________________________________________\n",
            " Layer (type)                Output Shape              Param #   \n",
            "=================================================================\n",
            " embedding_2 (Embedding)     (None, None, 64)          640000    \n",
            "                                                                 \n",
            " lstm (LSTM)                 (None, 64)                33024     \n",
            "                                                                 \n",
            " dense_2 (Dense)             (None, 64)                4160      \n",
            "                                                                 \n",
            " dense_3 (Dense)             (None, 1)                 65        \n",
            "                                                                 \n",
            "=================================================================\n",
            "Total params: 677,249\n",
            "Trainable params: 677,249\n",
            "Non-trainable params: 0\n",
            "_________________________________________________________________\n"
          ]
        }
      ]
    },
    {
      "cell_type": "code",
      "source": [
        "model.compile(loss='binary_crossentropy',\n",
        "              optimizer=tf.keras.optimizers.Adam(1e-4),\n",
        "              metrics=['accuracy'])"
      ],
      "metadata": {
        "id": "u3-g0WgflOV4"
      },
      "execution_count": 17,
      "outputs": []
    },
    {
      "cell_type": "code",
      "source": [
        "epochs_num = 5\n",
        "history = model.fit(train_padded, imdb_train_labels, epochs=epochs_num,\n",
        "                    validation_data=(test_padded, imdb_test_labels), \n",
        "                    validation_steps=30)"
      ],
      "metadata": {
        "colab": {
          "base_uri": "https://localhost:8080/"
        },
        "id": "4AMBdTvOlTAB",
        "outputId": "bb5c5eec-1dab-423e-97cf-f6372400dba4"
      },
      "execution_count": 18,
      "outputs": [
        {
          "output_type": "stream",
          "name": "stdout",
          "text": [
            "Epoch 1/5\n",
            "782/782 [==============================] - 74s 91ms/step - loss: 0.5884 - accuracy: 0.6554 - val_loss: 0.4301 - val_accuracy: 0.8171\n",
            "Epoch 2/5\n",
            "782/782 [==============================] - 72s 92ms/step - loss: 0.3557 - accuracy: 0.8512 - val_loss: 0.3841 - val_accuracy: 0.8353\n",
            "Epoch 3/5\n",
            "782/782 [==============================] - 71s 91ms/step - loss: 0.2805 - accuracy: 0.8878 - val_loss: 0.3886 - val_accuracy: 0.8382\n",
            "Epoch 4/5\n",
            "782/782 [==============================] - 71s 91ms/step - loss: 0.2431 - accuracy: 0.9060 - val_loss: 0.3929 - val_accuracy: 0.8366\n",
            "Epoch 5/5\n",
            "782/782 [==============================] - 77s 98ms/step - loss: 0.2145 - accuracy: 0.9184 - val_loss: 0.4354 - val_accuracy: 0.8335\n"
          ]
        }
      ]
    },
    {
      "cell_type": "code",
      "source": [
        "sample_text_to_predict = [\"The movie was cool. The animation and the graphics were out of this world. I would recommend this movie.\"]\n",
        "train_sequences = tokenizer.texts_to_sequences(sample_text_to_predict)\n",
        "pos_padded = pad_sequences(train_sequences, maxlen=20, truncating=\"post\")\n",
        "\n",
        "# making prediction\n",
        "prediction = model.predict(pos_padded)\n",
        "print(prediction)"
      ],
      "metadata": {
        "colab": {
          "base_uri": "https://localhost:8080/"
        },
        "id": "CL4Ou3QrlVpB",
        "outputId": "81466e1f-fc1b-4ca8-c0ea-ca783fe5573e"
      },
      "execution_count": 20,
      "outputs": [
        {
          "output_type": "stream",
          "name": "stdout",
          "text": [
            "1/1 [==============================] - 0s 35ms/step\n",
            "[[0.59928215]]\n"
          ]
        }
      ]
    },
    {
      "cell_type": "code",
      "source": [
        "sample_text_to_predict = [\"The movie was not good. The animation and the graphics were terrible. I would not recommend this movie.\"]\n",
        "train_sequences = tokenizer.texts_to_sequences(sample_text_to_predict)\n",
        "neg_padded = pad_sequences(train_sequences, maxlen=20, truncating=\"post\")\n",
        "\n",
        "# making prediction\n",
        "prediction = model.predict(neg_padded)\n",
        "print(prediction)"
      ],
      "metadata": {
        "colab": {
          "base_uri": "https://localhost:8080/"
        },
        "id": "ZDeyoCuOm4Gx",
        "outputId": "59afd406-13f0-4f51-e49c-6213f5c63c6b"
      },
      "execution_count": 22,
      "outputs": [
        {
          "output_type": "stream",
          "name": "stdout",
          "text": [
            "1/1 [==============================] - 0s 40ms/step\n",
            "[[0.20664096]]\n"
          ]
        }
      ]
    },
    {
      "cell_type": "code",
      "source": [
        "plot_graphs(history, 'accuracy')\n",
        "plot_graphs(history, 'loss')"
      ],
      "metadata": {
        "colab": {
          "base_uri": "https://localhost:8080/",
          "height": 542
        },
        "id": "WGhIFX4fm7wL",
        "outputId": "65dc11db-637d-44f0-a6bc-46bd82836bce"
      },
      "execution_count": 23,
      "outputs": [
        {
          "output_type": "display_data",
          "data": {
            "text/plain": [
              "<Figure size 432x288 with 1 Axes>"
            ],
            "image/png": "[encoded data removed]"
          },
          "metadata": {
            "needs_background": "light"
          }
        },
        {
          "output_type": "display_data",
          "data": {
            "text/plain": [
              "<Figure size 432x288 with 1 Axes>"
            ],
            "image/png": "[encoded data removed]"
          },
          "metadata": {
            "needs_background": "light"
          }
        }
      ]
    },
    {
      "cell_type": "code",
      "source": [
        "positive_review = [\"The movie was cool. The animation and the graphics were out of this world. I would recommend this movie.\"]\n",
        "negative_review = [\"The movie was not good. The animation and the graphics were terrible. I would not recommend this movie.\"]"
      ],
      "metadata": {
        "id": "NHuZt19Ym8UF"
      },
      "execution_count": 24,
      "outputs": []
    },
    {
      "cell_type": "code",
      "source": [
        "train_sequences = tokenizer.texts_to_sequences(positive_review)\n",
        "pos_padded = pad_sequences(train_sequences, maxlen=20, truncating=\"post\")\n",
        "\n",
        "# making prediction\n",
        "prediction = model.predict(pos_padded)\n",
        "print(prediction)"
      ],
      "metadata": {
        "colab": {
          "base_uri": "https://localhost:8080/"
        },
        "id": "WkQb2OvHnCxc",
        "outputId": "f1b530d1-9b96-4999-ded5-fe1e12bd350f"
      },
      "execution_count": 25,
      "outputs": [
        {
          "output_type": "stream",
          "name": "stdout",
          "text": [
            "1/1 [==============================] - 0s 27ms/step\n",
            "[[0.59928215]]\n"
          ]
        }
      ]
    },
    {
      "cell_type": "code",
      "source": [
        "train_sequences = tokenizer.texts_to_sequences(negative_review)\n",
        "pos_padded = pad_sequences(train_sequences, maxlen=20, truncating=\"post\")\n",
        "\n",
        "# making prediction\n",
        "prediction = model.predict(pos_padded)\n",
        "print(prediction)"
      ],
      "metadata": {
        "colab": {
          "base_uri": "https://localhost:8080/"
        },
        "id": "Q3RkDe3lnFqH",
        "outputId": "d6ce36ea-3284-4bf8-af6f-584cd7d84562"
      },
      "execution_count": 26,
      "outputs": [
        {
          "output_type": "stream",
          "name": "stdout",
          "text": [
            "1/1 [==============================] - 0s 34ms/step\n",
            "[[0.20664096]]\n"
          ]
        }
      ]
    },
    {
      "cell_type": "code",
      "source": [],
      "metadata": {
        "id": "yhOxv_YNnKpV"
      },
      "execution_count": null,
      "outputs": []
    }
  ]
}